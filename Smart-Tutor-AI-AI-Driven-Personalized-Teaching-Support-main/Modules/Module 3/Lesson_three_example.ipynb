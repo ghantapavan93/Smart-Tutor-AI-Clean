{
 "cells": [
  {
   "cell_type": "markdown",
   "metadata": {
    "colab_type": "text",
    "id": "view-in-github"
   },
   "source": [
    "<a href=\"https://colab.research.google.com/github/unt-iialab/UNT-INFO5717-Fall2019/blob/master/Lesson%204/Lesson_four-jp.ipynb\" target=\"_parent\"><img src=\"https://colab.research.google.com/assets/colab-badge.svg\" alt=\"Open In Colab\"/></a>"
   ]
  },
  {
   "cell_type": "markdown",
   "metadata": {
    "colab_type": "text",
    "id": "AwKbYo2HPEBw"
   },
   "source": [
    "This file introduces the core content and gives some examples for Lesson 3"
   ]
  },
  {
   "cell_type": "markdown",
   "metadata": {
    "colab_type": "text",
    "id": "wFnMoI8nPes_"
   },
   "source": [
    "# 1. Python module and Python package"
   ]
  },
  {
   "cell_type": "markdown",
   "metadata": {
    "colab_type": "text",
    "id": "Rv4RAdj4V-ms"
   },
   "source": [
    "**Python Modules**\n",
    "\n",
    "\n",
    "*   A module is a file containing Python definitions and statements.\n",
    "*   A module can define functions, classes and variables.\n",
    "*   A module can also include runnable code.\n",
    "*   Grouping related code into a module makes the code easier to understand and use.\n",
    "\n",
    "**Python Packages**\n",
    "\n",
    "\n",
    "\n",
    "*   Packages are namespaces which contain multiple packages and modules themselves.\n",
    "*   They are simply directories, but with a twist.\n",
    "*   Each package in Python is a directory which MUST contain a special file called __init__.py.\n",
    "*   This file can be empty, and it indicates that the directory it contains is a Python package, so it can be imported the same way a module can be imported.\n",
    "*   Example: If we create a directory called foo, which marks the package name, we can then create a module inside that package called bar. We also must not forget to add the __init__.py file inside the foo directory.\n",
    "\n",
    "**What is difference between a Python module and Python package?**\n",
    "\n",
    "\n",
    "*   A module is a single file (or files) that are imported under one import and used. e.g., \n",
    "`import my_module`\n",
    "*   A package is a collection of modules in directories that give a package hierarchy. e.g., `from my_package.timing.danger.internets import function_of_love`\n",
    "\n",
    "\n",
    "Any Python file is a [module](https://docs.python.org/3/tutorial/modules.html), its name being the file's base name without the .py extension. A [package](https://docs.python.org/3/tutorial/modules.html#packages) is a collection of Python modules: while a module is a single Python file, a package is a directory of Python modules containing an additional __init__.py file, to distinguish a package from a directory that just happens to contain a bunch of Python scripts.\n",
    "\n",
    "\n",
    "\n",
    "\n",
    "\n"
   ]
  },
  {
   "cell_type": "markdown",
   "metadata": {
    "colab_type": "text",
    "id": "K90z7gO4ps-U"
   },
   "source": [
    "1.1 Python moduels:\n",
    "https://www.w3schools.com/python/python_modules.asp\n",
    "\n",
    "\n",
    "1.2 Python Packages\n",
    "\n",
    "**(1) Find, install and publish Python packages with the Python Package Index** \n",
    "\n",
    "[Python package index](https://pypi.org/) "
   ]
  },
  {
   "cell_type": "markdown",
   "metadata": {
    "colab_type": "text",
    "id": "5SISxS9Bq7p7"
   },
   "source": [
    "**(2) How to install a python package?**\n",
    "\n",
    "in command:\n",
    "\n",
    "\n",
    "```\n",
    "pip install nltk(package name)\n",
    "```\n",
    "\n",
    "\n",
    "in Colab:\n",
    "\n",
    "\n",
    "```\n",
    "!pip install nltk(package name)\n",
    "```\n"
   ]
  },
  {
   "cell_type": "code",
   "execution_count": 0,
   "metadata": {
    "colab": {},
    "colab_type": "code",
    "id": "4fEWx_ccswhb"
   },
   "outputs": [],
   "source": [
    "pip install bert"
   ]
  },
  {
   "cell_type": "code",
   "execution_count": 0,
   "metadata": {
    "colab": {},
    "colab_type": "code",
    "id": "vz0_gxzPleet"
   },
   "outputs": [],
   "source": [
    "# Package pre-installed in colab\n",
    "!pip freeze"
   ]
  },
  {
   "cell_type": "markdown",
   "metadata": {
    "colab_type": "text",
    "id": "ZsXaf6mPulBG"
   },
   "source": [
    "(3) **The structure of Python packages ([from python documentation]**(https://docs.python.org/3/tutorial/modules.html#packages)):\n",
    "\n",
    "Packages can contain nested subpackages to arbitrary depth. For example, let’s make one more modification to the example package directory as follows:\n",
    "\n",
    "![alt text](https://files.realpython.com/media/pkg4.a830d6e144bf.png)\n",
    "\n",
    "\n",
    "The four modules (mod1.py, mod2.py, mod3.py and mod4.py) are defined as previously. But now, instead of being lumped together into the pkg directory, they are split out into two subpackage directories, sub_pkg1 and sub_pkg2.\n",
    "\n",
    "Importing still works the same as shown previously. Syntax is similar, but additional dot notation is used to separate package name from subpackage name:\n",
    "\n",
    "\n",
    "\n",
    "```\n",
    "import pkg.sub_pkg1.mod1\n",
    "\n",
    "from pkg.sub_pkg1 import mod2\n",
    "\n",
    "from pkg.sub_pkg2.mod3 import function_name\n",
    "\n",
    "# Rename a function\n",
    "from pkg.sub_pkg2.mod4 import qux as grault \n",
    "\n",
    "```\n",
    "\n",
    "**Remember, the usage of packages and modules are very similar!**"
   ]
  },
  {
   "cell_type": "markdown",
   "metadata": {
    "colab_type": "text",
    "id": "E_H-85jp9dzt"
   },
   "source": [
    "# 2. Python Advanced Recursion\n",
    "\n",
    "Problems (in life and also in computer science) can often seem big and scary. But if we keep chipping away at them, more often than not we can break them down into smaller chunks trivial enough to solve. This is the essence of thinking recursively!"
   ]
  },
  {
   "cell_type": "markdown",
   "metadata": {
    "colab_type": "text",
    "id": "zkqRn7Na-f_Q"
   },
   "source": [
    "![alt text](https://files.realpython.com/media/santa_claus_2.ecbf2686f1a1.png)"
   ]
  },
  {
   "cell_type": "code",
   "execution_count": 0,
   "metadata": {
    "colab": {},
    "colab_type": "code",
    "id": "jK-44aTH_z8a"
   },
   "outputs": [],
   "source": [
    "houses = [\"Eric's house\", \"Kenny's house\", \"Kyle's house\", \"Stan's house\"]\n",
    "\n",
    "def deliver_presents_iteratively():\n",
    "    for house in houses:\n",
    "        print(\"Delivering presents to\", house)\n",
    "deliver_presents_iteratively()"
   ]
  },
  {
   "cell_type": "markdown",
   "metadata": {
    "colab_type": "text",
    "id": "8BenhopACZM3"
   },
   "source": [
    "![alt text](https://files.realpython.com/media/elves_7.8d1af1cd85c8.png)\n",
    "\n",
    "Assign titles and responsibilities to the elves based on the number of houses for which they are responsible:\n",
    "\n",
    "*   \\> 1 He is a manager and can appoint two elves and divide his work among them\n",
    "*   = 1 He is a worker and has to deliver the presents to the house assigned to him\n"
   ]
  },
  {
   "cell_type": "code",
   "execution_count": 0,
   "metadata": {
    "colab": {},
    "colab_type": "code",
    "id": "Gnah5OdSCbIs"
   },
   "outputs": [],
   "source": [
    "houses = [\"Eric's house\", \"Kenny's house\", \"Kyle's house\", \"Stan's house\"]\n",
    "\n",
    "# Each function call represents an elf doing his work \n",
    "def deliver_presents_recursively(houses):\n",
    "    # Worker elf doing his work\n",
    "    if len(houses) == 1:\n",
    "        house = houses[0]\n",
    "        print(\"Delivering presents to\", house)\n",
    "\n",
    "    # Manager elf doing his work\n",
    "    else:\n",
    "        mid = len(houses) // 2\n",
    "        first_half = houses[:mid]\n",
    "        second_half = houses[mid:]\n",
    "\n",
    "        # Divides his work among two elves\n",
    "        deliver_presents_recursively(first_half)\n",
    "        deliver_presents_recursively(second_half)\n",
    "deliver_presents_recursively(houses)"
   ]
  },
  {
   "cell_type": "markdown",
   "metadata": {
    "colab_type": "text",
    "id": "O2VNSTWTHN6w"
   },
   "source": [
    "n! = n x (n−1)!\n",
    "\n",
    "n! = n x (n−1) x (n−2)!\n",
    "\n",
    "n! = n x (n−1) x (n−2) x (n−3)!\n",
    "\n",
    "⋅\n",
    "\n",
    "⋅\n",
    "\n",
    "n! = n x (n−1) x (n−2) x (n−3) ⋅⋅⋅⋅ x 3!\n",
    "\n",
    "n! = n x (n−1) x (n−2) x (n−3) ⋅⋅⋅⋅ x 3 x 2!\n",
    "\n",
    "n! = n x (n−1) x (n−2) x (n−3) ⋅⋅⋅⋅ x 3 x 2 x 1!\n",
    "\n",
    "![alt text](https://files.realpython.com/media/stack.9c4ba62929cf.gif)"
   ]
  },
  {
   "cell_type": "code",
   "execution_count": 0,
   "metadata": {
    "colab": {},
    "colab_type": "code",
    "id": "t8NINPX6HVzH"
   },
   "outputs": [],
   "source": [
    "def factorial_recursive(n):\n",
    "    # Base case: 1! = 1\n",
    "    if n == 1:\n",
    "        return 1\n",
    "\n",
    "    # Recursive case: n! = n * (n-1)!\n",
    "    else:\n",
    "        return n * factorial_recursive(n-1)\n",
    "      \n",
    "factorial_recursive(5)"
   ]
  },
  {
   "cell_type": "markdown",
   "metadata": {
    "colab_type": "text",
    "id": "mRF5RHQcHv6B"
   },
   "source": [
    "![alt text](https://files.realpython.com/media/state_3.3e8a68c4fde5.png)\n",
    "\n",
    "\n",
    "(1,0)\n",
    "\n",
    "(2,1)\n",
    "\n",
    "(3,3)\n",
    "\n",
    "(4,6)\n",
    "\n",
    "(5,10)\n",
    "\n",
    "(6,15)\n",
    "\n",
    "(7,21)\n",
    "\n",
    "(8,28)\n",
    "\n",
    "(9,36)\n",
    "\n",
    "(10,45)\n",
    "\n",
    "(11,55)\n",
    "\n"
   ]
  },
  {
   "cell_type": "code",
   "execution_count": 0,
   "metadata": {
    "colab": {},
    "colab_type": "code",
    "id": "f-IQGK1BJUhf"
   },
   "outputs": [],
   "source": [
    "def sum_recursive(current_number, accumulated_sum):\n",
    "    # Base case\n",
    "    # Return the final state\n",
    "    if current_number == 11:\n",
    "        return accumulated_sum\n",
    "\n",
    "    # Recursive case\n",
    "    # Thread the state through the recursive call\n",
    "    else:\n",
    "        return sum_recursive(current_number + 1, accumulated_sum + current_number)\n",
    "\n",
    "sum_recursive(1, 0)"
   ]
  },
  {
   "cell_type": "markdown",
   "metadata": {
    "colab_type": "text",
    "id": "FhAFzAauX7bB"
   },
   "source": [
    "## **Recursive Data Structures in Python**\n",
    "\n",
    "A data structure is recursive if it can be deﬁned in terms of a smaller version of itself. "
   ]
  },
  {
   "cell_type": "code",
   "execution_count": 0,
   "metadata": {
    "colab": {
     "base_uri": "https://localhost:8080/",
     "height": 35
    },
    "colab_type": "code",
    "id": "U7asLTcKXxZL",
    "outputId": "c823507e-5dfa-46d5-df19-11f44898dc43"
   },
   "outputs": [
    {
     "data": {
      "text/plain": [
       "[1, 46, -31, 'hello']"
      ]
     },
     "execution_count": 16,
     "metadata": {
      "tags": []
     },
     "output_type": "execute_result"
    }
   ],
   "source": [
    "# Return a new list that is the result of\n",
    "# adding element to the head (i.e. front) of input_list\n",
    "def attach_head(element, input_list):\n",
    "    return [element] + input_list\n",
    "  \n",
    "attach_head(1,                                                  # Will return [1, 46, -31, \"hello\"]\n",
    "            attach_head(46,                                     # Will return [46, -31, \"hello\"]\n",
    "                        attach_head(-31,                        # Will return [-31, \"hello\"]\n",
    "                                    attach_head(\"hello\", [])))) # Will return [\"hello\"]"
   ]
  },
  {
   "cell_type": "markdown",
   "metadata": {
    "colab_type": "text",
    "id": "FILLLYzjYdGJ"
   },
   "source": [
    "\n",
    "\n",
    "1.   Starting with an empty list, you can generate any list by recursively applying the attach_head function.\n",
    "2.   Recursion can also be seen as self-referential function composition. We apply a function to an argument, then pass that result on as an argument to a second application of the same function, and so on. Repeatedly composing attach_head with itself is the same as attach_head calling itself repeatedly.\n",
    "\n",
    "![alt text](https://files.realpython.com/media/list.3df62a89243d.gif)\n",
    "\n"
   ]
  },
  {
   "cell_type": "code",
   "execution_count": 0,
   "metadata": {
    "colab": {
     "base_uri": "https://localhost:8080/",
     "height": 35
    },
    "colab_type": "code",
    "id": "7H-epojUZHZ_",
    "outputId": "73512245-67eb-4de9-d382-27f7c6fd6e90"
   },
   "outputs": [
    {
     "data": {
      "text/plain": [
       "6"
      ]
     },
     "execution_count": 15,
     "metadata": {
      "tags": []
     },
     "output_type": "execute_result"
    }
   ],
   "source": [
    "def list_sum_recursive(input_list):\n",
    "    # Base case\n",
    "    if input_list == []:\n",
    "        return 0\n",
    "\n",
    "    # Recursive case\n",
    "    # Decompose the original problem into simpler instances of the same problem\n",
    "    # by making use of the fact that the input is a recursive data structure\n",
    "    # and can be deﬁned in terms of a smaller version of itself\n",
    "    else:\n",
    "        head = input_list[0]\n",
    "        smaller_list = input_list[1:]\n",
    "        return head + list_sum_recursive(smaller_list)\n",
    "\n",
    "list_sum_recursive([1, 2, 3])"
   ]
  },
  {
   "cell_type": "code",
   "execution_count": 0,
   "metadata": {
    "colab": {
     "base_uri": "https://localhost:8080/",
     "height": 295
    },
    "colab_type": "code",
    "id": "HXgYuJFkZyO4",
    "outputId": "92bffca2-95e1-4716-f835-5a67e64a5731"
   },
   "outputs": [
    {
     "name": "stdout",
     "output_type": "stream",
     "text": [
      "Calculating F(5), \n",
      "Calculating F(4), \n",
      "Calculating F(3), \n",
      "Calculating F(2), \n",
      "Calculating F(1), \n",
      "Calculating F(0), \n",
      "Calculating F(1), \n",
      "Calculating F(2), \n",
      "Calculating F(1), \n",
      "Calculating F(0), \n",
      "Calculating F(3), \n",
      "Calculating F(2), \n",
      "Calculating F(1), \n",
      "Calculating F(0), \n",
      "Calculating F(1), \n"
     ]
    },
    {
     "data": {
      "text/plain": [
       "5"
      ]
     },
     "execution_count": 20,
     "metadata": {
      "tags": []
     },
     "output_type": "execute_result"
    }
   ],
   "source": [
    "def fibonacci_recursive(n):\n",
    "    print(\"Calculating F\", \"(\", n, \")\", sep=\"\", end=\", \" \"\\n\")\n",
    "\n",
    "    # Base case\n",
    "    if n == 0:\n",
    "        return 0\n",
    "    elif n == 1:\n",
    "        return 1\n",
    "\n",
    "    # Recursive case\n",
    "    else:\n",
    "        return fibonacci_recursive(n-1) + fibonacci_recursive(n-2)\n",
    "\n",
    "fibonacci_recursive(5)"
   ]
  },
  {
   "cell_type": "markdown",
   "metadata": {
    "colab_type": "text",
    "id": "nYyB7OqoLmlq"
   },
   "source": [
    "# 3. Python File I/O"
   ]
  },
  {
   "cell_type": "markdown",
   "metadata": {
    "colab_type": "text",
    "id": "oBMoiFnfLvmQ"
   },
   "source": [
    "**3.1 Glossary**\n",
    "\n",
    "\n",
    "**File:**\n",
    "\n",
    "A named location on disk to store related information. It is used to permanently store data in a non-volatile memory (e.g. hard disk).\n",
    "\n",
    "\n",
    "**Format operator:**\n",
    "\n",
    "An operator, %, that takes a format string and a tuple and generates a string that includes the elements of the tuple formatted as specified by the format string.\n",
    "\n",
    "\n",
    "**Format string:**\n",
    "\n",
    "A string, used with the format operator, that contains format sequences.\n",
    "\n",
    "\n",
    "**Format sequence:**\n",
    "\n",
    "A sequence of characters in a format string, like %d, that specifies how a value should be formatted.\n",
    "\n",
    "\n",
    "**Text file:**\n",
    "\n",
    "A sequence of characters stored in permanent storage like a hard drive.\n",
    "\n",
    "\n",
    "**Directory:**\n",
    "\n",
    "A named collection of files, also called a folder.\n",
    "\n",
    "\n",
    "**Path:**\n",
    "\n",
    "A string that identifies a file.\n",
    "\n",
    "\n",
    "**Relative path:**\n",
    "\n",
    "A path that starts from the current directory.\n",
    "\n",
    "\n",
    "**Absolute path:**\n",
    "\n",
    "A path that starts from the topmost directory in the file system.\n",
    "\n",
    "\n",
    "**Catch:**\n",
    "\n",
    "\n",
    "To prevent an exception from terminating a program using the try and except statements.\n",
    "database:\n",
    "\n",
    "\n",
    "A file whose contents are organized like a dictionary with keys that correspond to values.\n"
   ]
  },
  {
   "cell_type": "markdown",
   "metadata": {
    "colab_type": "text",
    "id": "B4ZYWofgbPCN"
   },
   "source": [
    "**Python File Modes**\n",
    "\n",
    ">Mode | Description\n",
    ">--- | ---\n",
    ">'r'| Open a file for reading. (default)\n",
    ">'w'| Open a file for writing. Creates a new file if it does not exist or truncates the file if it exists.\n",
    ">'x'|Open a file for exclusive creation. If the file already exists, the operation fails.\n",
    ">'a'|Open for appending at the end of the file without truncating it. Creates a new file if it does not exist.\n",
    "> 't'|Open in text mode. (default)\n",
    ">'b'|Open in binary mode.\n",
    ">'+'|Open a file for updating (reading and writing)"
   ]
  },
  {
   "cell_type": "markdown",
   "metadata": {
    "colab_type": "text",
    "id": "QKytehKPDXfp"
   },
   "source": [
    "**3.2** **Reading and writing**\n",
    "\n",
    "A text file is a sequence of characters stored on a permanent medium like a hard drive, flash memory, or CD-ROM. \n",
    "\n",
    "**Examples in the second edition**:\n",
    "\n",
    "To **write** a file, you have to open it with mode 'w' as a second parameter:\n",
    "\n"
   ]
  },
  {
   "cell_type": "code",
   "execution_count": 0,
   "metadata": {
    "colab": {
     "base_uri": "https://localhost:8080/",
     "height": 35
    },
    "colab_type": "code",
    "id": "6Yb9F-GaD3jD",
    "outputId": "c10dcc38-6eba-40c7-9b35-9219ff8eecb6"
   },
   "outputs": [
    {
     "name": "stdout",
     "output_type": "stream",
     "text": [
      "<_io.TextIOWrapper name='output.txt' mode='w' encoding='UTF-8'>\n"
     ]
    }
   ],
   "source": [
    "fout = open('output.txt', 'w')\n",
    "print(fout)"
   ]
  },
  {
   "cell_type": "markdown",
   "metadata": {
    "colab_type": "text",
    "id": "7ldD6ly4GTNI"
   },
   "source": [
    "The write() method puts data into the file.\n",
    "\n",
    "f.write(string) writes the contents of string to the file, returning the number of characters written.\n"
   ]
  },
  {
   "cell_type": "code",
   "execution_count": 0,
   "metadata": {
    "colab": {
     "base_uri": "https://localhost:8080/",
     "height": 35
    },
    "colab_type": "code",
    "id": "keeoyfxEEKG9",
    "outputId": "4723f838-059d-418c-8e75-7d1a2623e803"
   },
   "outputs": [
    {
     "data": {
      "text/plain": [
       "24"
      ]
     },
     "execution_count": 21,
     "metadata": {
      "tags": []
     },
     "output_type": "execute_result"
    }
   ],
   "source": [
    "line1 = \"This here's the wattle,\\n\"\n",
    "fout.write(line1)"
   ]
  },
  {
   "cell_type": "markdown",
   "metadata": {
    "colab_type": "text",
    "id": "vnMSp1qqGpH9"
   },
   "source": [
    "Again, the file object keeps track of where it is, so if you call write again, it adds the new data to the end."
   ]
  },
  {
   "cell_type": "code",
   "execution_count": 0,
   "metadata": {
    "colab": {
     "base_uri": "https://localhost:8080/",
     "height": 35
    },
    "colab_type": "code",
    "id": "3BBS-OtmEyfE",
    "outputId": "af2047f3-aeb3-4e26-f017-7b54e29a98d4"
   },
   "outputs": [
    {
     "data": {
      "text/plain": [
       "25"
      ]
     },
     "execution_count": 22,
     "metadata": {
      "tags": []
     },
     "output_type": "execute_result"
    }
   ],
   "source": [
    "# Again, the file object keeps track of where it is, so if you call write again, it adds the new data to the end.\n",
    "\n",
    "line2 = \"the emblem of our lands.\\n\"\n",
    "fout.write(line2)"
   ]
  },
  {
   "cell_type": "markdown",
   "metadata": {
    "colab_type": "text",
    "id": "-M2Qk4OAGrOt"
   },
   "source": [
    "When you are done writing, you have to close the file.\n"
   ]
  },
  {
   "cell_type": "markdown",
   "metadata": {
    "colab_type": "text",
    "id": "fywT2VBXgYNN"
   },
   "source": [
    "To **read** a file in Python, we must open the file in reading mode."
   ]
  },
  {
   "cell_type": "code",
   "execution_count": 0,
   "metadata": {
    "colab": {
     "base_uri": "https://localhost:8080/",
     "height": 69
    },
    "colab_type": "code",
    "id": "kI6-xhBtgctZ",
    "outputId": "a5d266c2-1658-44b4-fa08-79db38f081c2"
   },
   "outputs": [
    {
     "name": "stdout",
     "output_type": "stream",
     "text": [
      "This here's the wattle,\n",
      "the emblem of our lands.\n",
      "52\n"
     ]
    }
   ],
   "source": [
    "f = open(\"output.txt\",'r',encoding = 'utf-8')\n",
    "\n",
    "# read the entire file\n",
    "\n",
    "print(f.read())"
   ]
  },
  {
   "cell_type": "code",
   "execution_count": 0,
   "metadata": {
    "colab": {
     "base_uri": "https://localhost:8080/",
     "height": 35
    },
    "colab_type": "code",
    "id": "p3xYIiGVg3iM",
    "outputId": "d7d260e3-7dbd-442f-d840-d7b5a5d86619"
   },
   "outputs": [
    {
     "name": "stdout",
     "output_type": "stream",
     "text": [
      "This here\n"
     ]
    }
   ],
   "source": [
    "f1 = open(\"output.txt\",'r',encoding = 'utf-8')\n",
    "\n",
    "# read the first 9 data\n",
    "print(f1.read(9))"
   ]
  },
  {
   "cell_type": "code",
   "execution_count": 0,
   "metadata": {
    "colab": {
     "base_uri": "https://localhost:8080/",
     "height": 69
    },
    "colab_type": "code",
    "id": "mWkzbut4htSg",
    "outputId": "e6d7b098-50bb-4db4-9b09-5761616894ba"
   },
   "outputs": [
    {
     "name": "stdout",
     "output_type": "stream",
     "text": [
      "This here's the wattle,\n",
      "the emblem of our lands.\n",
      "52"
     ]
    }
   ],
   "source": [
    "# We can read a file line-by-line using a for loop. This is both efficient and fast.\n",
    "\n",
    "f2 = open(\"output.txt\",'r',encoding = 'utf-8')\n",
    "\n",
    "for line in f2:\n",
    "  print(line, end = '')"
   ]
  },
  {
   "cell_type": "code",
   "execution_count": 0,
   "metadata": {
    "colab": {
     "base_uri": "https://localhost:8080/",
     "height": 35
    },
    "colab_type": "code",
    "id": "pr4xwqFeiAkM",
    "outputId": "4eccd390-cf88-4077-c79b-1a4701b0ee1e"
   },
   "outputs": [
    {
     "name": "stdout",
     "output_type": "stream",
     "text": [
      "[\"This here's the wattle,\\n\", 'the emblem of our lands.\\n', '52']\n"
     ]
    }
   ],
   "source": [
    "# The readlines() method returns a list of remaining lines of the entire file\n",
    "f3 = open(\"output.txt\",'r',encoding = 'utf-8')\n",
    "\n",
    "print(f3.readlines())"
   ]
  },
  {
   "cell_type": "markdown",
   "metadata": {
    "colab_type": "text",
    "id": "RWf0D9YGHruQ"
   },
   "source": [
    "**Examples in the third edition: **"
   ]
  },
  {
   "cell_type": "code",
   "execution_count": 0,
   "metadata": {
    "colab": {},
    "colab_type": "code",
    "id": "wOEMn_8jH4uq"
   },
   "outputs": [],
   "source": [
    "# Writing our first file\n",
    "\n",
    "with open(\"test.txt\", \"w\") as myfile:\n",
    "  myfile.write(\"My first file written from Python\\n\")\n",
    "  myfile.write(\"# I like Python\\n\")\n",
    "  myfile.write(\"---------------------------------\\n\")\n",
    "  myfile.write(\"Hello, world!\\n\")\n",
    "  myfile.write(\"## Python is really interesting\\n\")\n",
    "  myfile.write(\"---------------------------------\\n\")\n",
    "  myfile.write(\"# Python is easy\\n\")\n"
   ]
  },
  {
   "cell_type": "code",
   "execution_count": 0,
   "metadata": {
    "colab": {
     "base_uri": "https://localhost:8080/",
     "height": 69
    },
    "colab_type": "code",
    "id": "gKx4kTqjIKf4",
    "outputId": "c08eb85a-98ab-46ef-87b8-aeed2eafb79e"
   },
   "outputs": [
    {
     "name": "stdout",
     "output_type": "stream",
     "text": [
      "My first file written from Python\n",
      "---------------------------------\n",
      "Hello, world!\n"
     ]
    }
   ],
   "source": [
    "# Reading a file line-at-a-time\n",
    "\n",
    "with open(\"test.txt\", \"r\") as my_new_handle:\n",
    "  for the_line in my_new_handle:\n",
    "  # Do something with the line we just read.\n",
    "  # Here we just print it.\n",
    "    print(the_line, end=\"\")"
   ]
  },
  {
   "cell_type": "code",
   "execution_count": 0,
   "metadata": {
    "colab": {
     "base_uri": "https://localhost:8080/",
     "height": 166
    },
    "colab_type": "code",
    "id": "7JGNirCAIcx1",
    "outputId": "023556e4-6165-4596-cda4-ce4b8b9ad0d3"
   },
   "outputs": [
    {
     "ename": "FileNotFoundError",
     "evalue": "ignored",
     "output_type": "error",
     "traceback": [
      "\u001b[0;31m---------------------------------------------------------------------------\u001b[0m",
      "\u001b[0;31mFileNotFoundError\u001b[0m                         Traceback (most recent call last)",
      "\u001b[0;32m<ipython-input-5-90876b2f847b>\u001b[0m in \u001b[0;36m<module>\u001b[0;34m()\u001b[0m\n\u001b[0;32m----> 1\u001b[0;31m \u001b[0mmynewhandle\u001b[0m \u001b[0;34m=\u001b[0m \u001b[0mopen\u001b[0m\u001b[0;34m(\u001b[0m\u001b[0;34m\"wharrah.txt\"\u001b[0m\u001b[0;34m,\u001b[0m \u001b[0;34m\"r\"\u001b[0m\u001b[0;34m)\u001b[0m\u001b[0;34m\u001b[0m\u001b[0;34m\u001b[0m\u001b[0m\n\u001b[0m",
      "\u001b[0;31mFileNotFoundError\u001b[0m: [Errno 2] No such file or directory: 'wharrah.txt'"
     ]
    }
   ],
   "source": [
    "# If we try to open a file that doesn’t exist, we get an error:\n",
    "mynewhandle = open(\"wharrah.txt\", \"r\")"
   ]
  },
  {
   "cell_type": "code",
   "execution_count": 0,
   "metadata": {
    "colab": {},
    "colab_type": "code",
    "id": "AkxusfzMJWFa"
   },
   "outputs": [],
   "source": [
    "# Turning a file into a list of lines"
   ]
  },
  {
   "cell_type": "code",
   "execution_count": 0,
   "metadata": {
    "colab": {
     "base_uri": "https://localhost:8080/",
     "height": 72
    },
    "colab_type": "code",
    "id": "oBQITfzdJXqX",
    "outputId": "8977b4ad-0bec-4e62-cda1-b8d85f1bd4d6"
   },
   "outputs": [
    {
     "name": "stdout",
     "output_type": "stream",
     "text": [
      "['A general evaluation measure for document organization tasks\\n', \"ERD'14 entity recognition and disambiguation challenge\\n\", 'ChatNoir a search engine for the ClueWeb09 corpus\\n', 'Learning to personalize query auto-completion\\n', 'On building a reusable Twitter corpus\\n', 'Extending average precision to graded relevance judgments\\n', 'Entity query feature expansion using knowledge base links\\n', 'System effectiveness, user models, and user utility a conceptual framework for investigation\\n', 'Time-sensitive query auto-completion\\n', 'Toward whole-session relevance exploring intrinsic diversity in web search']\n",
      "['A general evaluation measure for document organization tasks\\n', 'ChatNoir a search engine for the ClueWeb09 corpus\\n', \"ERD'14 entity recognition and disambiguation challenge\\n\", 'Entity query feature expansion using knowledge base links\\n', 'Extending average precision to graded relevance judgments\\n', 'Learning to personalize query auto-completion\\n', 'On building a reusable Twitter corpus\\n', 'System effectiveness, user models, and user utility a conceptual framework for investigation\\n', 'Time-sensitive query auto-completion\\n', 'Toward whole-session relevance exploring intrinsic diversity in web search']\n"
     ]
    }
   ],
   "source": [
    "with open(\"original_papers.txt\", \"r\") as input_file:\n",
    "   all_lines = input_file.readlines()\n",
    "   print(all_lines)\n",
    "all_lines.sort()\n",
    "with open(\"sorted_papers.txt\", \"w\") as output_file:\n",
    "  for line in all_lines:\n",
    "    output_file.write(line)\n",
    "print(all_lines)"
   ]
  },
  {
   "cell_type": "code",
   "execution_count": 0,
   "metadata": {
    "colab": {
     "base_uri": "https://localhost:8080/",
     "height": 35
    },
    "colab_type": "code",
    "id": "hB92hmC3KVj0",
    "outputId": "0535cf4f-a471-4e97-ebc1-a582484d5d43"
   },
   "outputs": [
    {
     "name": "stdout",
     "output_type": "stream",
     "text": [
      "There are 72 words in the file.\n"
     ]
    }
   ],
   "source": [
    "# Reading the whole file at once\n",
    "with open(\"original_papers.txt\") as f:\n",
    "  content = f.read()\n",
    "  words = content.split()\n",
    "  print(\"There are {0} words in the file.\".format(len(words)))"
   ]
  },
  {
   "cell_type": "code",
   "execution_count": 0,
   "metadata": {
    "colab": {},
    "colab_type": "code",
    "id": "pfQ6Baq2L7kq"
   },
   "outputs": [],
   "source": [
    "# An example\n",
    "\n",
    "def filter(oldfile, newfile):\n",
    "  with open(oldfile, \"r\") as infile, open(newfile, \"w\") as outfile:\n",
    "    for line in infile:\n",
    "    # Put any processing logic here\n",
    "      if not line.startswith('#'):\n",
    "        outfile.write(line)\n",
    "\n",
    "oldfile = \"test.txt\"\n",
    "newfile = \"update_text.txt\"\n",
    "filter(oldfile, newfile)\n"
   ]
  },
  {
   "cell_type": "markdown",
   "metadata": {
    "colab_type": "text",
    "id": "T6p2xPGtGxxw"
   },
   "source": [
    "**3.3 Format operator**\n",
    "\n",
    "(1) The argument of write has to be a string, so if we want to put other values in a file, we have to convert them to strings. The easiest way to do that is with str:"
   ]
  },
  {
   "cell_type": "code",
   "execution_count": 0,
   "metadata": {
    "colab": {
     "base_uri": "https://localhost:8080/",
     "height": 35
    },
    "colab_type": "code",
    "id": "Zt-84N1lVeZn",
    "outputId": "e3052683-e7d8-4a07-efa3-df6755d4ce9c"
   },
   "outputs": [
    {
     "data": {
      "text/plain": [
       "2"
      ]
     },
     "execution_count": 23,
     "metadata": {
      "tags": []
     },
     "output_type": "execute_result"
    }
   ],
   "source": [
    "x = 52\n",
    "fout.write(str(x))"
   ]
  },
  {
   "cell_type": "markdown",
   "metadata": {
    "colab_type": "text",
    "id": "wqv-3sN8V8Yy"
   },
   "source": [
    "(2) An alternative is to use the **format operator**, %. When applied to integers, % is the modulus operator. But when the first operand is a string, % is the format operator.\n",
    "\n",
    "The first operand is the **format string**, which contains one or more **format sequences**, which specify how the second operand is formatted. The result is a string.\n",
    "\n",
    "For example, the format sequence '%d' means that the second operand should be formatted as an integer (d stands for “decimal”):"
   ]
  },
  {
   "cell_type": "code",
   "execution_count": 0,
   "metadata": {
    "colab": {
     "base_uri": "https://localhost:8080/",
     "height": 69
    },
    "colab_type": "code",
    "id": "sLn3WW_hWGl8",
    "outputId": "9a61f16c-bdc5-40e8-e776-73e068b185d4"
   },
   "outputs": [
    {
     "name": "stdout",
     "output_type": "stream",
     "text": [
      "<class 'int'>\n",
      "42\n",
      "<class 'str'>\n"
     ]
    }
   ],
   "source": [
    "camels = 42\n",
    "\n",
    "print(type(camels))\n",
    "\n",
    "new_camels = '%d' % camels\n",
    "\n",
    "print(new_camels)\n",
    "\n",
    "print(type(new_camels))"
   ]
  },
  {
   "cell_type": "markdown",
   "metadata": {
    "colab_type": "text",
    "id": "D-nNz6i_Wg6m"
   },
   "source": [
    "(3) A format sequence can appear anywhere in the string, so you can embed a value in a sentence:\n"
   ]
  },
  {
   "cell_type": "code",
   "execution_count": 0,
   "metadata": {
    "colab": {},
    "colab_type": "code",
    "id": "e_Qre-bsWiQY"
   },
   "outputs": [],
   "source": [
    "camels = 42\n",
    "'I have spotted %d camels.' % camels"
   ]
  },
  {
   "cell_type": "markdown",
   "metadata": {
    "colab_type": "text",
    "id": "8S4AA1EyWt_t"
   },
   "source": [
    "(4) If there is more than one format sequence in the string, the second argument has to be a tuple. Each format sequence is matched with an element of the tuple, in order.\n",
    "\n",
    "The following example uses '%d' to format an integer, '%g' to format a floating-point number (don’t ask why), and '%s' to format a string:"
   ]
  },
  {
   "cell_type": "code",
   "execution_count": 0,
   "metadata": {
    "colab": {
     "base_uri": "https://localhost:8080/",
     "height": 35
    },
    "colab_type": "code",
    "id": "BmgXwsuJW3oK",
    "outputId": "731dafbe-0ab9-4c62-95e7-96810d522dd7"
   },
   "outputs": [
    {
     "data": {
      "text/plain": [
       "'In 3 years I have spotted 0.1 camels.'"
      ]
     },
     "execution_count": 29,
     "metadata": {
      "tags": []
     },
     "output_type": "execute_result"
    }
   ],
   "source": [
    "'In %d years I have spotted %g %s.' % (3, 0.1, 'camels')"
   ]
  },
  {
   "cell_type": "markdown",
   "metadata": {
    "colab_type": "text",
    "id": "yXSh7dSbXLxZ"
   },
   "source": [
    "(5) The number of elements in the tuple has to match the number of format sequences in the string. Also, the types of the elements have to match the format sequences:"
   ]
  },
  {
   "cell_type": "code",
   "execution_count": 0,
   "metadata": {
    "colab": {
     "base_uri": "https://localhost:8080/",
     "height": 166
    },
    "colab_type": "code",
    "id": "ViRVEuEVXOG0",
    "outputId": "4c921b55-f0ae-449e-ad74-2ee85eb0745b"
   },
   "outputs": [
    {
     "ename": "TypeError",
     "evalue": "ignored",
     "output_type": "error",
     "traceback": [
      "\u001b[0;31m---------------------------------------------------------------------------\u001b[0m",
      "\u001b[0;31mTypeError\u001b[0m                                 Traceback (most recent call last)",
      "\u001b[0;32m<ipython-input-30-4a97654d37a9>\u001b[0m in \u001b[0;36m<module>\u001b[0;34m()\u001b[0m\n\u001b[0;32m----> 1\u001b[0;31m \u001b[0;34m'%d %d %d'\u001b[0m \u001b[0;34m%\u001b[0m \u001b[0;34m(\u001b[0m\u001b[0;36m1\u001b[0m\u001b[0;34m,\u001b[0m \u001b[0;36m2\u001b[0m\u001b[0;34m)\u001b[0m\u001b[0;34m\u001b[0m\u001b[0;34m\u001b[0m\u001b[0m\n\u001b[0m",
      "\u001b[0;31mTypeError\u001b[0m: not enough arguments for format string"
     ]
    }
   ],
   "source": [
    "'%d %d %d' % (1, 2)"
   ]
  },
  {
   "cell_type": "code",
   "execution_count": 0,
   "metadata": {
    "colab": {
     "base_uri": "https://localhost:8080/",
     "height": 166
    },
    "colab_type": "code",
    "id": "I8vqatpSYYs0",
    "outputId": "67f745e7-9e70-43f7-cb22-2b01ea319c83"
   },
   "outputs": [
    {
     "ename": "TypeError",
     "evalue": "ignored",
     "output_type": "error",
     "traceback": [
      "\u001b[0;31m---------------------------------------------------------------------------\u001b[0m",
      "\u001b[0;31mTypeError\u001b[0m                                 Traceback (most recent call last)",
      "\u001b[0;32m<ipython-input-31-f60b471c8eff>\u001b[0m in \u001b[0;36m<module>\u001b[0;34m()\u001b[0m\n\u001b[0;32m----> 1\u001b[0;31m \u001b[0;34m'%d'\u001b[0m \u001b[0;34m%\u001b[0m \u001b[0;34m'dollars'\u001b[0m\u001b[0;34m\u001b[0m\u001b[0;34m\u001b[0m\u001b[0m\n\u001b[0m",
      "\u001b[0;31mTypeError\u001b[0m: %d format: a number is required, not str"
     ]
    }
   ],
   "source": [
    "'%d' % 'dollars'"
   ]
  },
  {
   "cell_type": "markdown",
   "metadata": {
    "colab_type": "text",
    "id": "mL2J0meXYiIP"
   },
   "source": [
    "In the first example, there aren’t enough elements; in the second, the element is the wrong type.\n",
    "\n",
    "The format operator is powerful, but it can be difficult to use. You can read more about it at: https://docs.python.org/2/library/stdtypes.html#string-formatting "
   ]
  },
  {
   "cell_type": "markdown",
   "metadata": {
    "colab_type": "text",
    "id": "Tb-FKbVYYx9C"
   },
   "source": [
    "**3.4 Filenames and paths**\n",
    "\n",
    "Files are organized into **directories** (also called “folders”). Every running program has a “current directory,” which is the default directory for most operations. For example, when you open a file for reading, Python looks for it in the current directory.\n",
    "\n",
    "The os module provides functions for working with files and directories (“os” stands for “operating system”). os.getcwd returns the name of the current directory:\n"
   ]
  },
  {
   "cell_type": "code",
   "execution_count": 0,
   "metadata": {
    "colab": {
     "base_uri": "https://localhost:8080/",
     "height": 35
    },
    "colab_type": "code",
    "id": "8WLbA9qBZHMW",
    "outputId": "c9376a3a-3a67-423f-b50a-a97fb7aadfc8"
   },
   "outputs": [
    {
     "name": "stdout",
     "output_type": "stream",
     "text": [
      "/content\n"
     ]
    }
   ],
   "source": [
    "import os\n",
    "cwd = os.getcwd()\n",
    "print (cwd)"
   ]
  },
  {
   "cell_type": "markdown",
   "metadata": {
    "colab_type": "text",
    "id": "DbHIh_nkZYdO"
   },
   "source": [
    "A string like cwd that identifies a file is called a path. A relative path starts from the current directory; an absolute path starts from the topmost directory in the file system.\n",
    "\n",
    "The paths we have seen so far are simple filenames, so they are relative to the current directory. To find the absolute path to a file, you can use os.path.abspath:"
   ]
  },
  {
   "cell_type": "code",
   "execution_count": 0,
   "metadata": {
    "colab": {
     "base_uri": "https://localhost:8080/",
     "height": 35
    },
    "colab_type": "code",
    "id": "Lu6dzQgGZc1n",
    "outputId": "36c86a35-ce50-4ed4-95c2-82584d0f830a"
   },
   "outputs": [
    {
     "data": {
      "text/plain": [
       "'/content/output.txt'"
      ]
     },
     "execution_count": 33,
     "metadata": {
      "tags": []
     },
     "output_type": "execute_result"
    }
   ],
   "source": [
    "os.path.abspath('output.txt')"
   ]
  },
  {
   "cell_type": "code",
   "execution_count": 0,
   "metadata": {
    "colab": {
     "base_uri": "https://localhost:8080/",
     "height": 35
    },
    "colab_type": "code",
    "id": "BF5fmBzWZhB5",
    "outputId": "a8c8519a-9b13-441b-e240-7ef5f09f6251"
   },
   "outputs": [
    {
     "data": {
      "text/plain": [
       "'/content/mnist_train_small.csv'"
      ]
     },
     "execution_count": 34,
     "metadata": {
      "tags": []
     },
     "output_type": "execute_result"
    }
   ],
   "source": [
    "os.path.abspath('mnist_train_small.csv')"
   ]
  },
  {
   "cell_type": "markdown",
   "metadata": {
    "colab_type": "text",
    "id": "_cKxxPFvcnpy"
   },
   "source": [
    "os.path.exists checks whether a file or directory exists:"
   ]
  },
  {
   "cell_type": "code",
   "execution_count": 0,
   "metadata": {
    "colab": {
     "base_uri": "https://localhost:8080/",
     "height": 35
    },
    "colab_type": "code",
    "id": "NT7UnlMucrmo",
    "outputId": "9a4a1d06-48a8-41d7-8b4c-4cda419c8828"
   },
   "outputs": [
    {
     "data": {
      "text/plain": [
       "True"
      ]
     },
     "execution_count": 35,
     "metadata": {
      "tags": []
     },
     "output_type": "execute_result"
    }
   ],
   "source": [
    "os.path.exists('output.txt')"
   ]
  },
  {
   "cell_type": "markdown",
   "metadata": {
    "colab_type": "text",
    "id": "6TxoYdudc4j_"
   },
   "source": [
    "If it exists, os.path.isdir checks whether it’s a directory:"
   ]
  },
  {
   "cell_type": "code",
   "execution_count": 0,
   "metadata": {
    "colab": {
     "base_uri": "https://localhost:8080/",
     "height": 35
    },
    "colab_type": "code",
    "id": "2PE64qqOc6DZ",
    "outputId": "ce084d18-fc47-40f9-b7d3-9caacd8c6f34"
   },
   "outputs": [
    {
     "data": {
      "text/plain": [
       "False"
      ]
     },
     "execution_count": 36,
     "metadata": {
      "tags": []
     },
     "output_type": "execute_result"
    }
   ],
   "source": [
    "os.path.isdir('output.txt')"
   ]
  },
  {
   "cell_type": "code",
   "execution_count": 0,
   "metadata": {
    "colab": {
     "base_uri": "https://localhost:8080/",
     "height": 35
    },
    "colab_type": "code",
    "id": "937tE_GndQKf",
    "outputId": "d9e8cc65-d729-4b23-a252-854e282533d5"
   },
   "outputs": [
    {
     "data": {
      "text/plain": [
       "True"
      ]
     },
     "execution_count": 37,
     "metadata": {
      "tags": []
     },
     "output_type": "execute_result"
    }
   ],
   "source": [
    "os.path.isdir('sample_data')"
   ]
  },
  {
   "cell_type": "markdown",
   "metadata": {
    "colab_type": "text",
    "id": "Y1Kf3Lkrd4Xm"
   },
   "source": [
    "Similarly, os.path.isfile checks whether it’s a file.\n"
   ]
  },
  {
   "cell_type": "markdown",
   "metadata": {
    "colab_type": "text",
    "id": "TPG3NJT5d5sQ"
   },
   "source": [
    "os.listdir returns a list of the files (and other directories) in the given directory:"
   ]
  },
  {
   "cell_type": "code",
   "execution_count": 0,
   "metadata": {
    "colab": {
     "base_uri": "https://localhost:8080/",
     "height": 35
    },
    "colab_type": "code",
    "id": "qn3MpEkFd9nh",
    "outputId": "125e74a2-1b83-40b2-8148-c0a32ee11316"
   },
   "outputs": [
    {
     "data": {
      "text/plain": [
       "['.config', 'output.txt', '.ipynb_checkpoints', 'sample_data']"
      ]
     },
     "execution_count": 38,
     "metadata": {
      "tags": []
     },
     "output_type": "execute_result"
    }
   ],
   "source": [
    "os.listdir(cwd)"
   ]
  },
  {
   "cell_type": "markdown",
   "metadata": {
    "colab_type": "text",
    "id": "GOlfSAX-ePX0"
   },
   "source": [
    "To demonstrate these functions, the following example “walks” through a directory, prints the names of all the files, and calls itself recursively on all the directories."
   ]
  },
  {
   "cell_type": "markdown",
   "metadata": {
    "colab_type": "text",
    "id": "KbSMtUXUed0b"
   },
   "source": [
    "**3.5 Catching exceptions**\n",
    "\n",
    "A lot of things can go wrong when you try to read and write files. If you try to open a file that doesn’t exist, you get an IOError:"
   ]
  },
  {
   "cell_type": "code",
   "execution_count": 0,
   "metadata": {
    "colab": {
     "base_uri": "https://localhost:8080/",
     "height": 166
    },
    "colab_type": "code",
    "id": "82ydZJy8erDE",
    "outputId": "019e410a-a909-42c7-9235-e2314040199b"
   },
   "outputs": [
    {
     "ename": "FileNotFoundError",
     "evalue": "ignored",
     "output_type": "error",
     "traceback": [
      "\u001b[0;31m---------------------------------------------------------------------------\u001b[0m",
      "\u001b[0;31mFileNotFoundError\u001b[0m                         Traceback (most recent call last)",
      "\u001b[0;32m<ipython-input-41-a7d7d7ad396b>\u001b[0m in \u001b[0;36m<module>\u001b[0;34m()\u001b[0m\n\u001b[0;32m----> 1\u001b[0;31m \u001b[0mfin\u001b[0m \u001b[0;34m=\u001b[0m \u001b[0mopen\u001b[0m\u001b[0;34m(\u001b[0m\u001b[0;34m'bad_file'\u001b[0m\u001b[0;34m)\u001b[0m\u001b[0;34m\u001b[0m\u001b[0;34m\u001b[0m\u001b[0m\n\u001b[0m",
      "\u001b[0;31mFileNotFoundError\u001b[0m: [Errno 2] No such file or directory: 'bad_file'"
     ]
    }
   ],
   "source": [
    "fin = open('bad_file')"
   ]
  },
  {
   "cell_type": "markdown",
   "metadata": {
    "colab_type": "text",
    "id": "zzXoC6rSe1pk"
   },
   "source": [
    "Aif you try to open a directory for reading, you get"
   ]
  },
  {
   "cell_type": "code",
   "execution_count": 0,
   "metadata": {
    "colab": {
     "base_uri": "https://localhost:8080/",
     "height": 166
    },
    "colab_type": "code",
    "id": "TpEfX7NDe5nX",
    "outputId": "512019aa-91ec-4c37-aeb9-f77df440fe41"
   },
   "outputs": [
    {
     "ename": "IsADirectoryError",
     "evalue": "ignored",
     "output_type": "error",
     "traceback": [
      "\u001b[0;31m---------------------------------------------------------------------------\u001b[0m",
      "\u001b[0;31mIsADirectoryError\u001b[0m                         Traceback (most recent call last)",
      "\u001b[0;32m<ipython-input-44-4feab252b2ad>\u001b[0m in \u001b[0;36m<module>\u001b[0;34m()\u001b[0m\n\u001b[0;32m----> 1\u001b[0;31m \u001b[0mfout\u001b[0m \u001b[0;34m=\u001b[0m \u001b[0mopen\u001b[0m\u001b[0;34m(\u001b[0m\u001b[0;34m'/content'\u001b[0m\u001b[0;34m,\u001b[0m \u001b[0;34m'w'\u001b[0m\u001b[0;34m)\u001b[0m\u001b[0;34m\u001b[0m\u001b[0;34m\u001b[0m\u001b[0m\n\u001b[0m",
      "\u001b[0;31mIsADirectoryError\u001b[0m: [Errno 21] Is a directory: '/content'"
     ]
    }
   ],
   "source": [
    "fout = open('/content', 'w')"
   ]
  },
  {
   "cell_type": "markdown",
   "metadata": {
    "colab_type": "text",
    "id": "W-wmfjbMfMnR"
   },
   "source": [
    "To avoid these errors, you could use functions like os.path.exists and os.path.isfile, but it would take a lot of time and code to check all the possibilities (if “Errno 21” is any indication, there are at least 21 things that can go wrong).\n",
    "\n",
    "It is better to go ahead and try—and deal with problems if they happen—which is exactly what the try statement does. The syntax is similar to an if statement:"
   ]
  },
  {
   "cell_type": "code",
   "execution_count": 0,
   "metadata": {
    "colab": {
     "base_uri": "https://localhost:8080/",
     "height": 35
    },
    "colab_type": "code",
    "id": "eFV00uumfOGc",
    "outputId": "af8b2a4e-fc57-4b38-dad1-1d7c3895797b"
   },
   "outputs": [
    {
     "name": "stdout",
     "output_type": "stream",
     "text": [
      "Something went wrong.\n"
     ]
    }
   ],
   "source": [
    "try:    \n",
    "    fin = open('bad_file')\n",
    "    for line in fin:\n",
    "        print (line)\n",
    "    fin.close()\n",
    "except:\n",
    "    print ('Something went wrong.')"
   ]
  },
  {
   "cell_type": "markdown",
   "metadata": {
    "colab_type": "text",
    "id": "N4NcvvNeffEK"
   },
   "source": [
    "Python starts by executing the try clause. If all goes well, it skips the except clause and proceeds. If an exception occurs, it jumps out of the try clause and executes the except clause.\n",
    "\n",
    "Handling an exception with a try statement is called catching an exception. In this example, the except clause prints an error message that is not very helpful. In general, catching an exception gives you a chance to fix the problem, or try again, or at least end the program gracefully."
   ]
  },
  {
   "cell_type": "markdown",
   "metadata": {
    "colab_type": "text",
    "id": "ogAaV_gOfgT-"
   },
   "source": [
    "**3.6 What about fetching something from the web?**\n",
    "\n",
    "The Python libraries are pretty messy in places. But here is a very simple example that copies the contents at some web URL to a local file.\n",
    "\n",
    "The urlretrieve function — just one call — could be used to download any kind of content from the Internet.\n",
    "\n",
    "We’ll need to get a few things right before this works:\n",
    "\n",
    "\n",
    "*   The resource we’re trying to fetch must exist! Check this using a browser.\n",
    "*   We’ll need permission to write to the destination filename, and the file will be created in the “current\n",
    "directory” - i.e. the same folder that the Python program is saved in.\n",
    "*   If we are behind a proxy server that requires authentication, (as some students are), this may require some\n",
    "more special handling to work around our proxy. Use a local resource for the purpose of this demonstration!\n",
    "\n",
    "\n",
    "\n"
   ]
  },
  {
   "cell_type": "markdown",
   "metadata": {
    "colab_type": "text",
    "id": "ZQNfYq26QA-4"
   },
   "source": [
    "Here is a slightly different example using the requests module. This module is not part of the standard library distributed with python, however it is easier to use and significantly more potent than the urllib module distributed with\n",
    "python."
   ]
  },
  {
   "cell_type": "code",
   "execution_count": 0,
   "metadata": {
    "colab": {
     "base_uri": "https://localhost:8080/",
     "height": 35
    },
    "colab_type": "code",
    "id": "Vb072fqXOLDs",
    "outputId": "dbb512ff-6866-4805-fac3-d8114512abc3"
   },
   "outputs": [
    {
     "data": {
      "text/plain": [
       "('rfc793.txt', <http.client.HTTPMessage at 0x7fedcce72b70>)"
      ]
     },
     "execution_count": 34,
     "metadata": {
      "tags": []
     },
     "output_type": "execute_result"
    }
   ],
   "source": [
    "import urllib.request\n",
    "url = \"https://www.w3.org/TR/PNG/iso_8859-1.txt\"\n",
    "destination_filename = \"rfc793.txt\"\n",
    "urllib.request.urlretrieve(url, destination_filename)\n"
   ]
  },
  {
   "cell_type": "code",
   "execution_count": 0,
   "metadata": {
    "colab": {
     "base_uri": "https://localhost:8080/",
     "height": 1000
    },
    "colab_type": "code",
    "id": "5i0Uy96zOfK_",
    "outputId": "8485aa39-b1e2-42f8-9844-2613346fe2bd"
   },
   "outputs": [
    {
     "name": "stdout",
     "output_type": "stream",
     "text": [
      "The following are the graphical (non-control) characters defined by\n",
      "ISO 8859-1 (1987).  Descriptions in words aren't all that helpful,\n",
      "but they're the best we can do in text.  A graphics file illustrating\n",
      "the character set should be available from the same archive as this\n",
      "file.\n",
      "\n",
      "Hex Description                 Hex Description\n",
      "\n",
      "20  SPACE\n",
      "21  EXCLAMATION MARK            A1  INVERTED EXCLAMATION MARK\n",
      "22  QUOTATION MARK              A2  CENT SIGN\n",
      "23  NUMBER SIGN                 A3  POUND SIGN\n",
      "24  DOLLAR SIGN                 A4  CURRENCY SIGN\n",
      "25  PERCENT SIGN                A5  YEN SIGN\n",
      "26  AMPERSAND                   A6  BROKEN BAR\n",
      "27  APOSTROPHE                  A7  SECTION SIGN\n",
      "28  LEFT PARENTHESIS            A8  DIAERESIS\n",
      "29  RIGHT PARENTHESIS           A9  COPYRIGHT SIGN\n",
      "2A  ASTERISK                    AA  FEMININE ORDINAL INDICATOR\n",
      "2B  PLUS SIGN                   AB  LEFT-POINTING DOUBLE ANGLE QUOTATION MARK\n",
      "2C  COMMA                       AC  NOT SIGN\n",
      "2D  HYPHEN-MINUS                AD  SOFT HYPHEN\n",
      "2E  FULL STOP                   AE  REGISTERED SIGN\n",
      "2F  SOLIDUS                     AF  OVERLINE\n",
      "30  DIGIT ZERO                  B0  DEGREE SIGN\n",
      "31  DIGIT ONE                   B1  PLUS-MINUS SIGN\n",
      "32  DIGIT TWO                   B2  SUPERSCRIPT TWO\n",
      "33  DIGIT THREE                 B3  SUPERSCRIPT THREE\n",
      "34  DIGIT FOUR                  B4  ACUTE ACCENT\n",
      "35  DIGIT FIVE                  B5  MICRO SIGN\n",
      "36  DIGIT SIX                   B6  PILCROW SIGN\n",
      "37  DIGIT SEVEN                 B7  MIDDLE DOT\n",
      "38  DIGIT EIGHT                 B8  CEDILLA\n",
      "39  DIGIT NINE                  B9  SUPERSCRIPT ONE\n",
      "3A  COLON                       BA  MASCULINE ORDINAL INDICATOR\n",
      "3B  SEMICOLON                   BB  RIGHT-POINTING DOUBLE ANGLE QUOTATION MARK\n",
      "3C  LESS-THAN SIGN              BC  VULGAR FRACTION ONE QUARTER\n",
      "3D  EQUALS SIGN                 BD  VULGAR FRACTION ONE HALF\n",
      "3E  GREATER-THAN SIGN           BE  VULGAR FRACTION THREE QUARTERS\n",
      "3F  QUESTION MARK               BF  INVERTED QUESTION MARK\n",
      "40  COMMERCIAL AT               C0  CAPITAL LETTER A WITH GRAVE\n",
      "41  CAPITAL LETTER A            C1  CAPITAL LETTER A WITH ACUTE\n",
      "42  CAPITAL LETTER B            C2  CAPITAL LETTER A WITH CIRCUMFLEX\n",
      "43  CAPITAL LETTER C            C3  CAPITAL LETTER A WITH TILDE\n",
      "44  CAPITAL LETTER D            C4  CAPITAL LETTER A WITH DIAERESIS\n",
      "45  CAPITAL LETTER E            C5  CAPITAL LETTER A WITH RING ABOVE\n",
      "46  CAPITAL LETTER F            C6  CAPITAL LETTER AE\n",
      "47  CAPITAL LETTER G            C7  CAPITAL LETTER C WITH CEDILLA\n",
      "48  CAPITAL LETTER H            C8  CAPITAL LETTER E WITH GRAVE\n",
      "49  CAPITAL LETTER I            C9  CAPITAL LETTER E WITH ACUTE\n",
      "4A  CAPITAL LETTER J            CA  CAPITAL LETTER E WITH CIRCUMFLEX\n",
      "4B  CAPITAL LETTER K            CB  CAPITAL LETTER E WITH DIAERESIS\n",
      "4C  CAPITAL LETTER L            CC  CAPITAL LETTER I WITH GRAVE\n",
      "4D  CAPITAL LETTER M            CD  CAPITAL LETTER I WITH ACUTE\n",
      "4E  CAPITAL LETTER N            CE  CAPITAL LETTER I WITH CIRCUMFLEX\n",
      "4F  CAPITAL LETTER O            CF  CAPITAL LETTER I WITH DIAERESIS\n",
      "50  CAPITAL LETTER P            D0  CAPITAL LETTER ETH (Icelandic)\n",
      "51  CAPITAL LETTER Q            D1  CAPITAL LETTER N WITH TILDE\n",
      "52  CAPITAL LETTER R            D2  CAPITAL LETTER O WITH GRAVE\n",
      "53  CAPITAL LETTER S            D3  CAPITAL LETTER O WITH ACUTE\n",
      "54  CAPITAL LETTER T            D4  CAPITAL LETTER O WITH CIRCUMFLEX\n",
      "55  CAPITAL LETTER U            D5  CAPITAL LETTER O WITH TILDE\n",
      "56  CAPITAL LETTER V            D6  CAPITAL LETTER O WITH DIAERESIS\n",
      "57  CAPITAL LETTER W            D7  MULTIPLICATION SIGN\n",
      "58  CAPITAL LETTER X            D8  CAPITAL LETTER O WITH STROKE\n",
      "59  CAPITAL LETTER Y            D9  CAPITAL LETTER U WITH GRAVE\n",
      "5A  CAPITAL LETTER Z            DA  CAPITAL LETTER U WITH ACUTE\n",
      "5B  LEFT SQUARE BRACKET         DB  CAPITAL LETTER U WITH CIRCUMFLEX\n",
      "5C  REVERSE SOLIDUS             DC  CAPITAL LETTER U WITH DIAERESIS\n",
      "5D  RIGHT SQUARE BRACKET        DD  CAPITAL LETTER Y WITH ACUTE\n",
      "5E  CIRCUMFLEX ACCENT           DE  CAPITAL LETTER THORN (Icelandic)\n",
      "5F  LOW LINE                    DF  SMALL LETTER SHARP S (German)\n",
      "60  GRAVE ACCENT                E0  SMALL LETTER A WITH GRAVE\n",
      "61  SMALL LETTER A              E1  SMALL LETTER A WITH ACUTE\n",
      "62  SMALL LETTER B              E2  SMALL LETTER A WITH CIRCUMFLEX\n",
      "63  SMALL LETTER C              E3  SMALL LETTER A WITH TILDE\n",
      "64  SMALL LETTER D              E4  SMALL LETTER A WITH DIAERESIS\n",
      "65  SMALL LETTER E              E5  SMALL LETTER A WITH RING ABOVE\n",
      "66  SMALL LETTER F              E6  SMALL LETTER AE\n",
      "67  SMALL LETTER G              E7  SMALL LETTER C WITH CEDILLA\n",
      "68  SMALL LETTER H              E8  SMALL LETTER E WITH GRAVE\n",
      "69  SMALL LETTER I              E9  SMALL LETTER E WITH ACUTE\n",
      "6A  SMALL LETTER J              EA  SMALL LETTER E WITH CIRCUMFLEX\n",
      "6B  SMALL LETTER K              EB  SMALL LETTER E WITH DIAERESIS\n",
      "6C  SMALL LETTER L              EC  SMALL LETTER I WITH GRAVE\n",
      "6D  SMALL LETTER M              ED  SMALL LETTER I WITH ACUTE\n",
      "6E  SMALL LETTER N              EE  SMALL LETTER I WITH CIRCUMFLEX\n",
      "6F  SMALL LETTER O              EF  SMALL LETTER I WITH DIAERESIS\n",
      "70  SMALL LETTER P              F0  SMALL LETTER ETH (Icelandic)\n",
      "71  SMALL LETTER Q              F1  SMALL LETTER N WITH TILDE\n",
      "72  SMALL LETTER R              F2  SMALL LETTER O WITH GRAVE\n",
      "73  SMALL LETTER S              F3  SMALL LETTER O WITH ACUTE\n",
      "74  SMALL LETTER T              F4  SMALL LETTER O WITH CIRCUMFLEX\n",
      "75  SMALL LETTER U              F5  SMALL LETTER O WITH TILDE\n",
      "76  SMALL LETTER V              F6  SMALL LETTER O WITH DIAERESIS\n",
      "77  SMALL LETTER W              F7  DIVISION SIGN\n",
      "78  SMALL LETTER X              F8  SMALL LETTER O WITH STROKE\n",
      "79  SMALL LETTER Y              F9  SMALL LETTER U WITH GRAVE\n",
      "7A  SMALL LETTER Z              FA  SMALL LETTER U WITH ACUTE\n",
      "7B  LEFT CURLY BRACKET          FB  SMALL LETTER U WITH CIRCUMFLEX\n",
      "7C  VERTICAL LINE               FC  SMALL LETTER U WITH DIAERESIS\n",
      "7D  RIGHT CURLY BRACKET         FD  SMALL LETTER Y WITH ACUTE\n",
      "7E  TILDE                       FE  SMALL LETTER THORN (Icelandic)\n",
      "                                FF  SMALL LETTER Y WITH DIAERESIS\n",
      "\n"
     ]
    }
   ],
   "source": [
    "import requests\n",
    "url = \"https://www.w3.org/TR/PNG/iso_8859-1.txt\"\n",
    "response = requests.get(url)\n",
    "print(response.text)"
   ]
  },
  {
   "cell_type": "markdown",
   "metadata": {
    "colab_type": "text",
    "id": "AnNKuBn4QH_c"
   },
   "source": [
    "Opening the remote URL returns the response from the server. That response contains several types of information, and the requests module allows us to access them in various ways. On line 5, we get the downloaded document as a single string. We could also read it line by line as follows:\n"
   ]
  },
  {
   "cell_type": "code",
   "execution_count": 0,
   "metadata": {
    "colab": {
     "base_uri": "https://localhost:8080/",
     "height": 869
    },
    "colab_type": "code",
    "id": "0O6m2o4tPTkQ",
    "outputId": "314377f7-e036-402e-ac38-32934c1a9906"
   },
   "outputs": [
    {
     "name": "stdout",
     "output_type": "stream",
     "text": [
      "b\"The following are the graphical (non-control) characters defined by\\nISO 8859-1 (1987).  Descriptions in words aren't all that he\"\n",
      "b\"lpful,\\nbut they're the best we can do in text.  A graphics file illustrating\\nthe character set should be available from the same\"\n",
      "b' archive as this\\nfile.\\n\\nHex Description                 Hex Description\\n\\n20  SPACE\\n21  EXCLAMATION MARK            A1  INVERTED '\n",
      "b'EXCLAMATION MARK\\n22  QUOTATION MARK              A2  CENT SIGN\\n23  NUMBER SIGN                 A3  POUND SIGN\\n24  DOLLAR SIGN   '\n",
      "b'              A4  CURRENCY SIGN\\n25  PERCENT SIGN                A5  YEN SIGN\\n26  AMPERSAND                   A6  BROKEN BAR\\n27  '\n",
      "b'APOSTROPHE                  A7  SECTION SIGN\\n28  LEFT PARENTHESIS            A8  DIAERESIS\\n29  RIGHT PARENTHESIS           A9  C'\n",
      "b'OPYRIGHT SIGN\\n2A  ASTERISK                    AA  FEMININE ORDINAL INDICATOR\\n2B  PLUS SIGN                   AB  LEFT-POINTING D'\n",
      "b'OUBLE ANGLE QUOTATION MARK\\n2C  COMMA                       AC  NOT SIGN\\n2D  HYPHEN-MINUS                AD  SOFT HYPHEN\\n2E  FULL'\n",
      "b' STOP                   AE  REGISTERED SIGN\\n2F  SOLIDUS                     AF  OVERLINE\\n30  DIGIT ZERO                  B0  DEG'\n",
      "b'REE SIGN\\n31  DIGIT ONE                   B1  PLUS-MINUS SIGN\\n32  DIGIT TWO                   B2  SUPERSCRIPT TWO\\n33  DIGIT THREE'\n",
      "b'                 B3  SUPERSCRIPT THREE\\n34  DIGIT FOUR                  B4  ACUTE ACCENT\\n35  DIGIT FIVE                  B5  MICR'\n",
      "b'O SIGN\\n36  DIGIT SIX                   B6  PILCROW SIGN\\n37  DIGIT SEVEN                 B7  MIDDLE DOT\\n38  DIGIT EIGHT          '\n",
      "b'       B8  CEDILLA\\n39  DIGIT NINE                  B9  SUPERSCRIPT ONE\\n3A  COLON                       BA  MASCULINE ORDINAL IND'\n",
      "b'ICATOR\\n3B  SEMICOLON                   BB  RIGHT-POINTING DOUBLE ANGLE QUOTATION MARK\\n3C  LESS-THAN SIGN              BC  VULGAR'\n",
      "b' FRACTION ONE QUARTER\\n3D  EQUALS SIGN                 BD  VULGAR FRACTION ONE HALF\\n3E  GREATER-THAN SIGN           BE  VULGAR FR'\n",
      "b'ACTION THREE QUARTERS\\n3F  QUESTION MARK               BF  INVERTED QUESTION MARK\\n40  COMMERCIAL AT               C0  CAPITAL LET'\n",
      "b'TER A WITH GRAVE\\n41  CAPITAL LETTER A            C1  CAPITAL LETTER A WITH ACUTE\\n42  CAPITAL LETTER B            C2  CAPITAL LET'\n",
      "b'TER A WITH CIRCUMFLEX\\n43  CAPITAL LETTER C            C3  CAPITAL LETTER A WITH TILDE\\n44  CAPITAL LETTER D            C4  CAPITA'\n",
      "b'L LETTER A WITH DIAERESIS\\n45  CAPITAL LETTER E            C5  CAPITAL LETTER A WITH RING ABOVE\\n46  CAPITAL LETTER F            C'\n",
      "b'6  CAPITAL LETTER AE\\n47  CAPITAL LETTER G            C7  CAPITAL LETTER C WITH CEDILLA\\n48  CAPITAL LETTER H            C8  CAPIT'\n",
      "b'AL LETTER E WITH GRAVE\\n49  CAPITAL LETTER I            C9  CAPITAL LETTER E WITH ACUTE\\n4A  CAPITAL LETTER J            CA  CAPIT'\n",
      "b'AL LETTER E WITH CIRCUMFLEX\\n4B  CAPITAL LETTER K            CB  CAPITAL LETTER E WITH DIAERESIS\\n4C  CAPITAL LETTER L            '\n",
      "b'CC  CAPITAL LETTER I WITH GRAVE\\n4D  CAPITAL LETTER M            CD  CAPITAL LETTER I WITH ACUTE\\n4E  CAPITAL LETTER N            '\n",
      "b'CE  CAPITAL LETTER I WITH CIRCUMFLEX\\n4F  CAPITAL LETTER O            CF  CAPITAL LETTER I WITH DIAERESIS\\n50  CAPITAL LETTER P   '\n",
      "b'         D0  CAPITAL LETTER ETH (Icelandic)\\n51  CAPITAL LETTER Q            D1  CAPITAL LETTER N WITH TILDE\\n52  CAPITAL LETTER R'\n",
      "b'            D2  CAPITAL LETTER O WITH GRAVE\\n53  CAPITAL LETTER S            D3  CAPITAL LETTER O WITH ACUTE\\n54  CAPITAL LETTER T'\n",
      "b'            D4  CAPITAL LETTER O WITH CIRCUMFLEX\\n55  CAPITAL LETTER U            D5  CAPITAL LETTER O WITH TILDE\\n56  CAPITAL LET'\n",
      "b'TER V            D6  CAPITAL LETTER O WITH DIAERESIS\\n57  CAPITAL LETTER W            D7  MULTIPLICATION SIGN\\n58  CAPITAL LETTER '\n",
      "b'X            D8  CAPITAL LETTER O WITH STROKE\\n59  CAPITAL LETTER Y            D9  CAPITAL LETTER U WITH GRAVE\\n5A  CAPITAL LETTER'\n",
      "b' Z            DA  CAPITAL LETTER U WITH ACUTE\\n5B  LEFT SQUARE BRACKET         DB  CAPITAL LETTER U WITH CIRCUMFLEX\\n5C  REVERSE S'\n",
      "b'OLIDUS             DC  CAPITAL LETTER U WITH DIAERESIS\\n5D  RIGHT SQUARE BRACKET        DD  CAPITAL LETTER Y WITH ACUTE\\n5E  CIRCU'\n",
      "b'MFLEX ACCENT           DE  CAPITAL LETTER THORN (Icelandic)\\n5F  LOW LINE                    DF  SMALL LETTER SHARP S (German)\\n60'\n",
      "b'  GRAVE ACCENT                E0  SMALL LETTER A WITH GRAVE\\n61  SMALL LETTER A              E1  SMALL LETTER A WITH ACUTE\\n62  SM'\n",
      "b'ALL LETTER B              E2  SMALL LETTER A WITH CIRCUMFLEX\\n63  SMALL LETTER C              E3  SMALL LETTER A WITH TILDE\\n64  S'\n",
      "b'MALL LETTER D              E4  SMALL LETTER A WITH DIAERESIS\\n65  SMALL LETTER E              E5  SMALL LETTER A WITH RING ABOVE\\n'\n",
      "b'66  SMALL LETTER F              E6  SMALL LETTER AE\\n67  SMALL LETTER G              E7  SMALL LETTER C WITH CEDILLA\\n68  SMALL LE'\n",
      "b'TTER H              E8  SMALL LETTER E WITH GRAVE\\n69  SMALL LETTER I              E9  SMALL LETTER E WITH ACUTE\\n6A  SMALL LETTER'\n",
      "b' J              EA  SMALL LETTER E WITH CIRCUMFLEX\\n6B  SMALL LETTER K              EB  SMALL LETTER E WITH DIAERESIS\\n6C  SMALL L'\n",
      "b'ETTER L              EC  SMALL LETTER I WITH GRAVE\\n6D  SMALL LETTER M              ED  SMALL LETTER I WITH ACUTE\\n6E  SMALL LETTE'\n",
      "b'R N              EE  SMALL LETTER I WITH CIRCUMFLEX\\n6F  SMALL LETTER O              EF  SMALL LETTER I WITH DIAERESIS\\n70  SMALL '\n",
      "b'LETTER P              F0  SMALL LETTER ETH (Icelandic)\\n71  SMALL LETTER Q              F1  SMALL LETTER N WITH TILDE\\n72  SMALL L'\n",
      "b'ETTER R              F2  SMALL LETTER O WITH GRAVE\\n73  SMALL LETTER S              F3  SMALL LETTER O WITH ACUTE\\n74  SMALL LETTE'\n",
      "b'R T              F4  SMALL LETTER O WITH CIRCUMFLEX\\n75  SMALL LETTER U              F5  SMALL LETTER O WITH TILDE\\n76  SMALL LETT'\n",
      "b'ER V              F6  SMALL LETTER O WITH DIAERESIS\\n77  SMALL LETTER W              F7  DIVISION SIGN\\n78  SMALL LETTER X        '\n",
      "b'      F8  SMALL LETTER O WITH STROKE\\n79  SMALL LETTER Y              F9  SMALL LETTER U WITH GRAVE\\n7A  SMALL LETTER Z           '\n",
      "b'   FA  SMALL LETTER U WITH ACUTE\\n7B  LEFT CURLY BRACKET          FB  SMALL LETTER U WITH CIRCUMFLEX\\n7C  VERTICAL LINE           '\n",
      "b'    FC  SMALL LETTER U WITH DIAERESIS\\n7D  RIGHT CURLY BRACKET         FD  SMALL LETTER Y WITH ACUTE\\n7E  TILDE                   '\n",
      "b'    FE  SMALL LETTER THORN (Icelandic)\\n                                FF  SMALL LETTER Y WITH DIAERESIS\\n'\n"
     ]
    }
   ],
   "source": [
    "import requests\n",
    "url = \"https://www.w3.org/TR/PNG/iso_8859-1.txt\"\n",
    "response = requests.get(url)\n",
    "for line in response:\n",
    "  print(line)\n"
   ]
  }
 ],
 "metadata": {
  "colab": {
   "collapsed_sections": [],
   "include_colab_link": true,
   "name": "Lesson_four.ipynb",
   "provenance": [],
   "toc_visible": true
  },
  "kernelspec": {
   "display_name": "Python 3",
   "language": "python",
   "name": "python3"
  },
  "language_info": {
   "codemirror_mode": {
    "name": "ipython",
    "version": 3
   },
   "file_extension": ".py",
   "mimetype": "text/x-python",
   "name": "python",
   "nbconvert_exporter": "python",
   "pygments_lexer": "ipython3",
   "version": "3.7.4"
  }
 },
 "nbformat": 4,
 "nbformat_minor": 1
}
